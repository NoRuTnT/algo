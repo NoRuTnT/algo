{
  "nbformat": 4,
  "nbformat_minor": 0,
  "metadata": {
    "colab": {
      "provenance": [],
      "mount_file_id": "1wCXXHuMtWARfh8joES7kF22nbQ1VAPKK",
      "authorship_tag": "ABX9TyN2pb1xkjIHxUCWi+E0611M",
      "include_colab_link": true
    },
    "kernelspec": {
      "name": "python3",
      "display_name": "Python 3"
    },
    "language_info": {
      "name": "python"
    }
  },
  "cells": [
    {
      "cell_type": "markdown",
      "metadata": {
        "id": "view-in-github",
        "colab_type": "text"
      },
      "source": [
        "<a href=\"https://colab.research.google.com/github/NoRuTnT/practice/blob/main/%EB%B0%94%EC%9D%B4%EC%98%A4%ED%8C%8C%EC%9D%B4%EC%8D%AC.ipynb\" target=\"_parent\"><img src=\"https://colab.research.google.com/assets/colab-badge.svg\" alt=\"Open In Colab\"/></a>"
      ]
    },
    {
      "cell_type": "markdown",
      "source": [
        "바이오파이썬 연습"
      ],
      "metadata": {
        "id": "zi1VIBYbRbLs"
      }
    },
    {
      "cell_type": "code",
      "execution_count": 11,
      "metadata": {
        "id": "GjLL-5a4_plF",
        "colab": {
          "base_uri": "https://localhost:8080/"
        },
        "outputId": "69887c5b-1d54-452a-ac3b-83f943112784"
      },
      "outputs": [
        {
          "output_type": "stream",
          "name": "stdout",
          "text": [
            "Looking in indexes: https://pypi.org/simple, https://us-python.pkg.dev/colab-wheels/public/simple/\n",
            "Requirement already satisfied: biopython in /usr/local/lib/python3.9/dist-packages (1.81)\n",
            "Requirement already satisfied: numpy in /usr/local/lib/python3.9/dist-packages (from biopython) (1.22.4)\n",
            "Drive already mounted at /content/gdrive; to attempt to forcibly remount, call drive.mount(\"/content/gdrive\", force_remount=True).\n"
          ]
        }
      ],
      "source": [
        "!pip install biopython\n",
        "from google.colab import drive\n",
        "drive.mount('/content/gdrive')\n",
        "\n",
        "\n"
      ]
    },
    {
      "cell_type": "code",
      "source": [
        "from Bio.Seq import Seq\n",
        "my_seq = Seq(\"AGTACACTGGT\")\n",
        "print(my_seq)\n",
        "print(my_seq.lower())\n",
        "len(my_seq)\n",
        "print(my_seq[0])\n",
        "print(my_seq[1:3]) ##string처럼 len, indexing가능"
      ],
      "metadata": {
        "colab": {
          "base_uri": "https://localhost:8080/"
        },
        "id": "DvIhnEiCNeg5",
        "outputId": "627b262f-d84d-4ef2-ba81-71dc558c76a4"
      },
      "execution_count": 5,
      "outputs": [
        {
          "output_type": "stream",
          "name": "stdout",
          "text": [
            "AGTACACTGGT\n",
            "agtacactggt\n",
            "A\n",
            "GT\n"
          ]
        }
      ]
    },
    {
      "cell_type": "code",
      "source": [
        "from Bio.Seq import Seq\n",
        "from Bio.SeqUtils import GC\n",
        "my_seq = Seq('GATCGATGGGCCTATATAGGATCGAAAATCGC')\n",
        "len(my_seq)\n",
        "my_seq.count(\"G\")\n",
        "100 * float(my_seq.count(\"G\") + my_seq.count(\"C\")) / len(my_seq) ##GC(%)계산\n"
      ],
      "metadata": {
        "colab": {
          "base_uri": "https://localhost:8080/"
        },
        "id": "l-70UNZkNm22",
        "outputId": "f6c30a1e-43ec-472d-e9c6-e06f935a200f"
      },
      "execution_count": 6,
      "outputs": [
        {
          "output_type": "execute_result",
          "data": {
            "text/plain": [
              "46.875"
            ]
          },
          "metadata": {},
          "execution_count": 6
        }
      ]
    },
    {
      "cell_type": "code",
      "source": [
        "protein_seq = Seq(\"EVRNAK\")\n",
        "dna_seq = Seq(\"ACGT\")\n",
        "protein_seq + dna_seq #IUPAC쓸떄는오류 지금은 더해진다?\n",
        "\n"
      ],
      "metadata": {
        "colab": {
          "base_uri": "https://localhost:8080/"
        },
        "id": "SYcd83aSWisQ",
        "outputId": "1e8b4b15-c53b-41af-d500-29bb156d1f18"
      },
      "execution_count": 7,
      "outputs": [
        {
          "output_type": "execute_result",
          "data": {
            "text/plain": [
              "Seq('EVRNAKACGT')"
            ]
          },
          "metadata": {},
          "execution_count": 7
        }
      ]
    },
    {
      "cell_type": "code",
      "source": [
        "my_seq = Seq(\"GATCGATGGGCCTATATAGGATCGAAAATCGC\")\n",
        "print(my_seq.complement()) #상보서열\n",
        "print(my_seq.reverse_complement()) #역상보서열"
      ],
      "metadata": {
        "colab": {
          "base_uri": "https://localhost:8080/"
        },
        "id": "4Jr8E3dvYITl",
        "outputId": "f4b50f9b-2f02-460a-d43c-5072bb1cb8d0"
      },
      "execution_count": 8,
      "outputs": [
        {
          "output_type": "stream",
          "name": "stdout",
          "text": [
            "CTAGCTACCCGGATATATCCTAGCTTTTAGCG\n",
            "GCGATTTTCGATCCTATATAGGCCCATCGATC\n"
          ]
        }
      ]
    },
    {
      "cell_type": "code",
      "source": [
        "coding_dna = Seq(\"ATGGCCATTGTAATGGGCCGCTGAAAGGGTGCCCGATAG\")\n",
        "template_dna = coding_dna.reverse_complement()\n",
        "print(template_dna)\n",
        "messenger_rna = coding_dna.transcribe()\n",
        "print(messenger_rna)\n",
        "messenger_rna.translate() #번역"
      ],
      "metadata": {
        "colab": {
          "base_uri": "https://localhost:8080/"
        },
        "id": "4s-uzYwwY3OD",
        "outputId": "5d701b11-4235-4e10-fc00-b3491a160b82"
      },
      "execution_count": 9,
      "outputs": [
        {
          "output_type": "stream",
          "name": "stdout",
          "text": [
            "CTATCGGGCACCCTTTCAGCGGCCCATTACAATGGCCAT\n",
            "AUGGCCAUUGUAAUGGGCCGCUGAAAGGGUGCCCGAUAG\n"
          ]
        },
        {
          "output_type": "execute_result",
          "data": {
            "text/plain": [
              "Seq('MAIVMGR*KGAR*')"
            ]
          },
          "metadata": {},
          "execution_count": 9
        }
      ]
    },
    {
      "cell_type": "markdown",
      "source": [
        "FASTA파일로부터 가져오기"
      ],
      "metadata": {
        "id": "rrOtbYe4RWAR"
      }
    },
    {
      "cell_type": "code",
      "source": [
        "from Bio import SeqIO\n",
        "#import sys\n",
        "#sys.path.append('/content/drive/MyDrive/colab') 안됨\n",
        "\n",
        "record = SeqIO.read(\"/content/gdrive/MyDrive/colab/NC_005816.fna\",\"fasta\")\n",
        "print(record)\n",
        "print(record.id) #시퀀스객체의 각각에도 저장가능"
      ],
      "metadata": {
        "colab": {
          "base_uri": "https://localhost:8080/"
        },
        "id": "U9jYQnNaZ5SY",
        "outputId": "ec739e82-1697-4be1-cd63-0117674a52e7"
      },
      "execution_count": 13,
      "outputs": [
        {
          "output_type": "stream",
          "name": "stdout",
          "text": [
            "ID: gi|45478711|ref|NC_005816.1|\n",
            "Name: gi|45478711|ref|NC_005816.1|\n",
            "Description: gi|45478711|ref|NC_005816.1| Yersinia pestis biovar Microtus str. 91001 plasmid pPCP1, complete sequence\n",
            "Number of features: 0\n",
            "Seq('TGTAACGAACGGTGCAATAGTGATCCACACCCAACGCCTGAAATCAGATCCAGG...CTG')\n",
            "gi|45478711|ref|NC_005816.1|\n"
          ]
        }
      ]
    },
    {
      "cell_type": "markdown",
      "source": [
        "GenBank파일 가져오기"
      ],
      "metadata": {
        "id": "aopACbNnRJDq"
      }
    },
    {
      "cell_type": "code",
      "source": [
        "from Bio import SeqIO\n",
        "record = SeqIO.read(\"/content/gdrive/MyDrive/colab/NC_005816.gb\", \"genbank\")\n",
        "print(record)\n"
      ],
      "metadata": {
        "colab": {
          "base_uri": "https://localhost:8080/"
        },
        "id": "IOlQka2Lyxaz",
        "outputId": "c4c1049d-55c2-49b5-f846-b692c89bb4b7"
      },
      "execution_count": 14,
      "outputs": [
        {
          "output_type": "stream",
          "name": "stdout",
          "text": [
            "ID: NC_005816.1\n",
            "Name: NC_005816\n",
            "Description: Yersinia pestis biovar Microtus str. 91001 plasmid pPCP1, complete sequence\n",
            "Database cross-references: Project:58037\n",
            "Number of features: 41\n",
            "/molecule_type=DNA\n",
            "/topology=circular\n",
            "/data_file_division=BCT\n",
            "/date=21-JUL-2008\n",
            "/accessions=['NC_005816']\n",
            "/sequence_version=1\n",
            "/gi=45478711\n",
            "/keywords=['']\n",
            "/source=Yersinia pestis biovar Microtus str. 91001\n",
            "/organism=Yersinia pestis biovar Microtus str. 91001\n",
            "/taxonomy=['Bacteria', 'Proteobacteria', 'Gammaproteobacteria', 'Enterobacteriales', 'Enterobacteriaceae', 'Yersinia']\n",
            "/references=[Reference(title='Genetics of metabolic variations between Yersinia pestis biovars and the proposal of a new biovar, microtus', ...), Reference(title='Complete genome sequence of Yersinia pestis strain 91001, an isolate avirulent to humans', ...), Reference(title='Direct Submission', ...), Reference(title='Direct Submission', ...)]\n",
            "/comment=PROVISIONAL REFSEQ: This record has not yet been subject to final\n",
            "NCBI review. The reference sequence was derived from AE017046.\n",
            "COMPLETENESS: full length.\n",
            "Seq('TGTAACGAACGGTGCAATAGTGATCCACACCCAACGCCTGAAATCAGATCCAGG...CTG')\n"
          ]
        }
      ]
    },
    {
      "cell_type": "code",
      "source": [
        "record\n",
        "print(record.seq)\n",
        "print(record.id)\n",
        "print(record.description)\n",
        "print(record.letter_annotations)\n",
        "print(len(record.annotations))\n",
        "print(record.annotations[\"source\"])\n",
        "print(record.dbxrefs)\n",
        "print(len(record.features))"
      ],
      "metadata": {
        "colab": {
          "base_uri": "https://localhost:8080/"
        },
        "id": "k60N2Evk0guX",
        "outputId": "5918fc2f-93f1-495b-ae4e-a762fc7cffa8"
      },
      "execution_count": 18,
      "outputs": [
        {
          "output_type": "stream",
          "name": "stdout",
          "text": [
            "TGTAACGAACGGTGCAATAGTGATCCACACCCAACGCCTGAAATCAGATCCAGGGGGTAATCTGCTCTCCTGATTCAGGAGAGTTTATGGTCACTTTTGAGACAGTTATGGAAATTAAAATCCTGCACAAGCAGGGAATGAGTAGCCGGGCGATTGCCAGAGAACTGGGGATCTCCCGCAATACCGTTAAACGTTATTTGCAGGCAAAATCTGAGCCGCCAAAATATACGCCGCGACCTGCTGTTGCTTCACTCCTGGATGAATACCGGGATTATATTCGTCAACGCATCGCCGATGCTCATCCTTACAAAATCCCGGCAACGGTAATCGCTCGCGAGATCAGAGACCAGGGATATCGTGGCGGAATGACCATTCTCAGGGCATTCATTCGTTCTCTCTCGGTTCCTCAGGAGCAGGAGCCTGCCGTTCGGTTCGAAACTGAACCCGGACGACAGATGCAGGTTGACTGGGGCACTATGCGTAATGGTCGCTCACCGCTTCACGTGTTCGTTGCTGTTCTCGGATACAGCCGAATGCTGTACATCGAATTCACTGACAATATGCGTTATGACACGCTGGAGACCTGCCATCGTAATGCGTTCCGCTTCTTTGGTGGTGTGCCGCGCGAAGTGTTGTATGACAATATGAAAACTGTGGTTCTGCAACGTGACGCATATCAGACCGGTCAGCACCGGTTCCATCCTTCGCTGTGGCAGTTCGGCAAGGAGATGGGCTTCTCTCCCCGACTGTGTCGCCCCTTCAGGGCACAGACTAAAGGTAAGGTGGAACGGATGGTGCAGTACACCCGTAACAGTTTTTACATCCCACTAATGACTCGCCTGCGCCCGATGGGGATCACTGTCGATGTTGAAACAGCCAACCGCCACGGTCTGCGCTGGCTGCACGATGTCGCTAACCAACGAAAGCATGAAACAATCCAGGCCCGTCCCTGCGATCGCTGGCTCGAAGAGCAGCAGTCCATGCTGGCACTGCCTCCGGAGAAAAAAGAGTATGACGTGCATCTTGATGAAAATCTGGTGAACTTCGACAAACACCCCCTGCATCATCCACTCTCCATCTACGACTCATTCTGCAGAGGAGTGGCGTGATGATGGAACTGCAACATCAACGACTGATGGCGCTCGCCGGGCAGTTGCAACTGGAAAGCCTTATAAGCGCAGCGCCTGCGCTGTCACAACAGGCAGTAGACCAGGAATGGAGTTATATGGACTTCCTGGAGCATCTGCTTCATGAAGAAAAACTGGCACGTCATCAACGTAAACAGGCGATGTATACCCGAATGGCAGCCTTCCCGGCGGTGAAAACGTTCGAAGAGTATGACTTCACATTCGCCACCGGAGCACCGCAGAAGCAACTCCAGTCGTTACGCTCACTCAGCTTCATAGAACGTAATGAAAATATCGTATTACTGGGGCCATCAGGTGTGGGGAAAACCCATCTGGCAATAGCGATGGGCTATGAAGCAGTCCGTGCAGGTATCAAAGTTCGCTTCACAACAGCAGCAGATCTGTTACTTCAGTTATCTACGGCACAACGTCAGGGCCGTTATAAAACGACGCTTCAGCGTGGAGTAATGGCCCCCCGCCTGCTCATCATTGATGAAATAGGCTATCTGCCGTTCAGTCAGGAAGAAGCAAAGCTGTTCTTCCAGGTCATCGCTAAACGTTACGAAAAGAGCGCAATGATCCTGACATCCAATCTGCCGTTCGGGCAGTGGGATCAAACGTTCGCCGGTGATGCAGCACTGACCTCAGCGATGCTGGACCGTATCTTACACCACTCACATGTCGTTCAAATCAAAGGAGAAAGCTATCGACTCAGACAGAAACGAAAGGCCGGGGTTATAGCAGAAGCTAATCCTGAGTAAAACGGTGGATCAATATTGGGCCGTTGGTGGAGATATAAGTGGATCACTTTTCATCCGTCGTTGACACCCTGATGAATTCACGTGTTCACGCCTGAATAACAAGAATGCCGGAGATACGCAGTCATATTTTTTACACAATTCTCTAATCCCGACAAGGTCGTAGGTCGTTATAGGAAAATTCTTAGCACCATTCCGGAACAATCAGAACAGCAGGCCATGAACGACTGACAACATTACGAATATAAAAAACGCACCCGGGCCAGACATTCCCCCTACTGATTAAACCAGCCGGACTTGTCCACGGAACGGTCTTTTTAAACCGACACACAGTCTGAGTACAGATACATGTCACGATGATGCAGGATTAGCGGAAGAGTGTGAGCACGTTTCCGGGAACTGTGGTGAACCATAGCTCAATATTCGAGTGAGGGCATACCGGAAACGCGCTCAGATTCGTTGTAACGCGATTTTCCGTACCGGGCAATTTTTTCAGTTGTTTTTTCGTTTCATGTCGTCAGAAACGTTCTGAGCGCGTTTCCGGCATCTGATGCTACGCAAACCATCCCCATGGTCAGTTGACAGCCGGAAACACGCGGGTGTCGTTTTAGCGTATCGACGGGACGGCGTCGAGAAGCACAAAAAACAGATGTTGTACTCAGTCAGTTGTTTTACAGACAGCACTGCGGCAGATTGAAAAAGTACCGTACTTTCAGGAATGTCCAGAAACCATGTGTCAGACTTCGTTCTCCCCCTTCCGGGTGAATTTTTTTGTCATCCGTTCAGGAATCTCTTTATAACGATTACTCCATTTCAGGATTTTTTATGTGGCGTTTACTACAGGCAGGATATTCAAAGGCAAAAAAATCCCCCGGAACAGGCGGAACCCGGACAGGGGGAGAACGAATCGCTAAATAATTTTCGTAGTTGTATTTCCCATCGTTGCTACTGCAACGGGATGAATTTGCCGCAGTTTATCCTGTAAAACAATCCTGATTTACTCACACTCCACATATCACTGACGGAGCACAACGGAATAGTGAACAAACAACAACAAACTGCGCTGAATATGGCGCGATTTATCAGAAGCCAGAGCCTGATACTGCTTGAAAAACTGGATGCTCTGGATGCCGACGAGCAGGCGGCCATGTGTGAACGACTGCACGAACTCGCGGAAGAACTCCAGAACAGCATCCAGGCTCGCTTTGAAGCCGAAAGTGAAACAGGAACATAACGAAGCTCCCGGAGACGGTCACAGCTTGTCTGTGAACGGATGCCGGGAGCAGACAAGCCCGTCAGGGCGCGTCAGCGGGTTTTAGCGGGTGTCGGGGCGCAGCCATGACCCAGTCACGTAGCGATAGCGGAGTGTATACTGGCTTAGTCATGCGGCATCAGTGCGGATTGTATGAAAAGTGCACCATGTACGGTGTGAAATGCCGCACAGATGCGTAAGGAGAACATGCAGATGCCGATGCTCTTCCGCTTCCTCGCTCACTGACTCGCTGCGCTCGGTCGTTCGGCTGCGGCGAGCGGTGTCTGCTCACTCAAAAGCGGTGATACTGTTATCCACACAATCAGGGGATAACGCCGGAAAGAACATGTGAGCAAAAAACGAAGACCCCAGAAAAGGCCGCGCCGGAGGCGCTTTTTCCATAGGCTCCGCCCCCCTGACGAGCATCACAAAAATCGACGCTCAAGTCAGAGGTGGCGAAACCCGACAGGACTTAAAGATACCAGGCGTTTCCCCCCGGAAGCTCCCTCGTGCGCTCTCCTGTTCCGACCCTGCCGCTTACCGGATACCTCTCCGCCTTTCTCCCTTCGGGAAGCGTGGCGCTTTCTCATAGCTCACGCTGTTGGTATCTCAGTTCGGTGTAGGTCGTTCGCTCCAAGCTGGGCTGTGTGCACGAACCCCCCGTTCAGCCCGACCACTGCGCCTTATCCGGTAACTATCGTCTTGAGTCCAACCCGGTAAGACACGACTTTACGCCACTGGCAGCAGCCATTGGTAACTGAAAAGTGGATTTAGATACGCAGAACTCTTGAAGTTGAAGCCTTATCGCGGCTACACTGAAAGGACAGCATTTGGTATCTGTGCTCCACTTAAGCCAGCTACCACAGGTTAGAAAGCCTGAGAAACTTCTAACCTTCGAAAGAACCCACGCCTGAGAACGTGGGTTTTTTCGTTTACAGGCAGCAGATTACGCGCAGAAAAAAAGGATCTCAAGAAGATCCTTTGATCTTTTCTACTGAATTGCGCTCCCGATCAGTTCAGCAGAAGATTATGATGGGGTTCTATGGGTATTGCTGCGGTAACACCCATGTTACTTGAGGTTGTATGTAGTCTGTGTAGAATTATACACATAAGGCTTAAACTGCTCTTTTTTTTCAATATGCAATTGGAAGTTCATTGACTACATAAATAGATTATTCCAAATAATTTATTTATGTAAGAACAGGATGGGAGGGGGAATGATCTCAAAGTTATTTTGCTTGGCTCTCATATTTTTATCATCAAGTGGCCTTGCAGAAAAAAACACATATACAGCAAAAGACATCTTGCAAAACCTAGAATTAAATACCTTTGGCAATTCATTGTCTCATGGCATCTATGGGAAACAGACAACCTTCAAGCAAACCGAGTTTACAAATATTAAAAGCAACACCAAAAAACACATTGCACTTATCAATAAAGACAACTCATGGATGATATCATTAAAAATACTAGGAATTAAGAGAGATGAGTATACTGTCTGTTTTGAAGATTTCTCTCTAATAAGACCGCCAACATATGTAGCCATACATCCTCTACTTATAAAAAAAGTAAAATCTGGAAACTTTATAGTAGTGAAAGAAATAAAGAAATCTATCCCTGGTTGCACTGTATATTATCATTAATAGCAAGCCCCTCATTATTATGAGGGGCTCATGGTTATTTTAACAATCCACTATCGATATCTTTTTGCACCAGAGCGCCCTCTCGTTTACGTCTGTCAGACATTCCATCAACAATATTATTAAAAGCATTTACAAGGCCATTCCAGTCTTTTGCGATAACTTTATTCCATACTGTGGGAGCAGTTCTGGATAACTTAAACCCTTTTTGATATCCAATAGACACCAGTGCTGTACGGGTTCTCAACGGTAAATCGCTGAACCGAAGACCGATATTAGCGTCATTGAAAAGACCTTCAATCTTATGTGAGAATTTATCAATATAAATATTAGATAAGAGATGAGCTTCATTATCAGAAAGCGTCAGAGGTGCTGTTCTCACTTTATCATAAGCCTCCTTCCCTCGAAGCATATAATACCCATCAAGTCTATCTGCAATATACTGAGGGACACCGTCATTCAATAAATCCTGTTTGCTTCGCTGACCAAGGTCAACCCCGGAACCGAATGTAACACCGGTACTGTTAAAATAATCGCTACTAGGATTAGACGGAAAATGACTTGTCGGATTAAACCCTTCAAAACCATTACTGGAGAAAATATCGTGGTCAACAATATTTACCGAACGACGTAAAAATTCCTTCAGTTGACTAATATTGTCAAAGTTAATGACAGTGTTGTCCGCTAGGACGATGCGATTTCGGTTATTATTCAGAATGTCTTCGTTCTCTTTCTTATCGAGATGTTCAATAGATTCGGCAATCGTTCCCTCAAGAACCATGACACGGTAGACTTTCACACCGTCTTTTTCCTGACCTGTTTCAACAGTTATTTTCTGTTCGTAAGACACGGTCCCTTCAGTTTTTGAAATTTTACTTTCCTGGCGGATCTTATTTGAATATTCACTGTCTTTCTCCATCTCCGTATCAATCGGAAACCCCATAATGTACATCAGTTTAAAATTACTCCGGCCAGGCAGATCCACATAATGTGGTAATGCAATTGTAATCGAATTAGCTTCAAAATTTGGTCTGTAACTGCTTAATGTACTTCCGGAAAAGAGAAAAGCCGGAACACCACCTGAACCATTCACTACCATTGTATCTGACATAAAAATTCCTCTTTAACACATAAAAAAAACAATAAGTTAAAAAAATACTGTACATAAAAGCACTGTTTTTATGTACAGTAATAAAATTACGCCGCTTTATTTTCTCTGTCAATAATATGAAATTTCATTTTTGTGATCTGAATCACTCTTATAAAAATCAGGAAGGGAAGATTCGCAGCAGAAAAACAGCACCGGGTAACATCAGAAAAAAACAGAAAGGAGATAACGTGAGCAAAACAAAATCTGGTCGCCACCGACTGAGCAAAACAGACAAACGCCTGCTGGCTGCACTTGTCGTTGCCGGATACGAAGAACGGACAGCCCGTGACCTCATCCAGAAACACGTTTACACACTGACACAGGCCGACCTGCGCCATCTGGTCAGTGAAATCAGTAACGGTGTGGGACAGTCACAGGCCTACGATGCGATTTACCAGGCGAGACGCATTCGTCTCGCCCGTAAATACCTGAGCGGAAAAAAACCGGAAGGGGTGGAACCCCGGGAAGGGCAGGAACGGGAAGATTTACCATAACTCCCGTTATCAGTACCATCGGCTCAACGCTCGTTGTCGGATCTGAAAAATTCGCTCAAAAGATCATATTTCCCTGGATATTTTCCACCGTTTCTTATGTGAGAAAAGTCACATAATTCTGTCAGACGACGAGAAAACGGATATCGATTATTGTTTAATATTTTTACATTATTAAAAATGAAATTAGATAATCAGATACAAATAATATGTTTTCGTTCATGCAGAGAGATTAAGGGTGTCTAATGAAGAAAAGTTCTATTGTGGCAACCATTATAACTATTCTGTCCGGGAGTGCTAATGCAGCATCATCTCAGTTAATACCAAATATATCCCCTGACAGCTTTACAGTTGCAGCCTCCACCGGGATGCTGAGTGGAAAGTCTCATGAAATGCTTTATGACGCAGAAACAGGAAGAAAGATCAGCCAGTTAGACTGGAAGATCAAAAATGTCGCTATCCTGAAAGGTGATATATCCTGGGATCCATACTCATTTCTGACCCTGAATGCCAGGGGGTGGACGTCTCTGGCTTCCGGGTCAGGTAATATGGATGACTACGACTGGATGAATGAAAATCAATCTGAGTGGACAGATCACTCATCTCATCCTGCTACAAATGTTAATCATGCCAATGAATATGACCTCAATGTGAAAGGCTGGTTACTCCAGGATGAGAATTATAAAGCAGGTATAACAGCAGGATATCAGGAAACACGTTTCAGTTGGACAGCTACAGGTGGTTCATATAGTTATAATAATGGAGCTTATACCGGAAACTTCCCGAAAGGAGTGCGGGTAATAGGTTATAACCAGCGCTTTTCTATGCCATATATTGGACTTGCAGGCCAGTATCGCATTAATGATTTTGAGTTAAATGCATTATTTAAATTCAGCGACTGGGTTCGGGCACATGATAATGATGAGCACTATATGAGAGATCTTACTTTCCGTGAGAAGACATCCGGCTCACGTTATTATGGTACCGTAATTAACGCTGGATATTATGTCACACCTAATGCCAAAGTCTTTGCGGAATTTACATACAGTAAATATGATGAGGGCAAAGGAGGTACTCAGATCATTGATAAGAATAGTGGAGATTCTGTCTCTATTGGCGGAGATGCTGCCGGTATTTCCAATAAAAATTATACTGTGACGGCGGGTCTGCAATATCGCTTCTGAAAAATACAGATCATATCTCTCTTTTCATCCTCCCCTAGCGGGGAGGATGTCTGTGGAAAGGAGGTTGGTGTTTGACCAACCTTCAGATGTGTGAAAAATCACCTTTTTCACCATAATGACGGGGCGCTCATTCTGTTGTTTTGCCTTGACATTCTCCACGTCTTTCAGGGCATGGAGAAGGTCAAATTAGACATGGAACGCTACTCTCCTTCCTGTAGGAAGCTCAACATCCAAGCTTAATTTGCCTCCCATTGCTTCAACGTAACGCTTTAACGTCGCCAGCTTTAAATCATTTCCGCGCTGCTCCAGCTTTGTTACTGCTGGCTGGCTTATACCCATCGCCTCAGCAACTTGTTTTTGTGATAACTGGAGTTCTTCACGCATCATCTGCAAGCCGACCTCAAGAATCATCTCATCTGCCATTTCTTTAATTCGTGTCTGGCTTTCAGGTGAACGACTGGCAATCACCTCATCTAATGTTCTCATTACTTGCTCTCCAGTGTGTTCAGATGTGCTGTAAATTCATCCTCAGCTATACGCACCAGTTTTTCATAAAACCGCTTATCATTACTTTTATCTCCTGCACAAAGAACGATAGCCCGACGAATCGGATCGAACGCATAAAAGGCTCTTATCGGACGGCCAGAAAACTGAACGCGAAGCTCTTTCATATTTTTGTACCGAGAACCTTTCACGGTATCGGCATATGGCCTGGGTAACTCAGGTCCGTAAACCTGTAGCTTTTTCAAATCAGCCAAAACCTTTTCCTGAAGAGCGTCTTCTTGCTCATTTAGCCAGTCGTCAAATCGCTGGCTAAAAAGTACCATCCACATGCTCAACCCTATAACCTGTAGCTTACCCCACTAACAATATAACCTACGAGTTATATTTTCAAGAAAAGCTGGCTATTTAACATAACGGCAATTTGTACGCACCACTGAAATGCGTTCAGCGCGATCACGGCAACAGACAGGCAAAAATAGCAACAAACCTCCCGAAAAACCGCCGCGATCGCGCCTGATAAATTTTAACCTTATGCATATCTATGCAGCCAGGCGAATCACGAACGAATTGCCTGCCTGATGTAACTGAAACGGGTGTTTTTTCCTGATTTGGTGGGCGTGGAAGACGGAACATGAACGGGAAAACAGAATTCATGCCAGATGAGCGCGATCTGGCAATTAAGGCAAAACACAGCAACAAAGACACGCCAGAATCGCGCCCGGATATGTTTTAACGCGATTTTCAGACTCAGACAAATTCAGCAGAATGCTACTCCATTCACCGGGCTGATGGTGAATACATGCGTATCCAGGATGAGTACATTTCTGGCTCTGCCACAGCTCTGTCTGTTGGCAGCTTTCGCCTGTCCGGAAACCTGCTTAAAACGCTCCCGAAAGGCCTCTGAACCAGAAAGCAACAAAACACAGGCCATTAAGTAAATCGCGTTAAAACACGTCTGATGGATTGCTGCAAAAAAAAGTCCCTAATGGAGCAGGGACTGTTAAACCCAGTGAATAGCGTCTAAATTAAAGTAAGAATACGACCAGGTACTCTTCAGAAAAGAGATTAATCCACCGCACAGAATAATCAACAGTAAAAACAAACAACCCTGATTTTTTATTTTTCTTTTTTTCGATAAAAACAAAATTAAAGAAATAATTAATCAGAACATTCCTTAACTTCAGGGCATTGCCTGTGTTCCATTTTGTGATTAGTCTGAAACTTCCGAAGGTGGATAACACCCGGTATTTTTTTGCTCACATAAAGCCCCTCCTTCAGGCAGAGGGGCTTTTTCTTTGCCACCACATAAAAAAGGCCCTCACAGGAGGTGTTCTGTGAGGGCGTATGATAAGGACTGAATCGATGGTTAATATGTCTAGTCCTGACTTTTGCATCTCCGAATATAAAACCCTGTTTAACGGCATGCAAAACCAAAAAATAAAAATGTGACATCGCAATGCCAGATAATATTGACGCATGAGGGAATGCGTACCCCGACCCCTG\n",
            "NC_005816.1\n",
            "Yersinia pestis biovar Microtus str. 91001 plasmid pPCP1, complete sequence\n",
            "{}\n",
            "13\n",
            "Yersinia pestis biovar Microtus str. 91001\n",
            "['Project:58037']\n",
            "41\n"
          ]
        }
      ]
    },
    {
      "cell_type": "markdown",
      "source": [
        "SeqFeature 객체\n"
      ],
      "metadata": {
        "id": "NGOysaO5SUIC"
      }
    },
    {
      "cell_type": "code",
      "source": [
        "from Bio import SeqIO\n",
        "record = SeqIO.read(\"/content/gdrive/MyDrive/colab/NC_005816.gb\", \"genbank\")\n",
        "record.features #리스트형태로 담고있음"
      ],
      "metadata": {
        "colab": {
          "base_uri": "https://localhost:8080/"
        },
        "id": "CNmwtEjVSZ7M",
        "outputId": "fbeb0462-fc7b-456b-ff5b-65cf4730eb25"
      },
      "execution_count": 22,
      "outputs": [
        {
          "output_type": "execute_result",
          "data": {
            "text/plain": [
              "[SeqFeature(SimpleLocation(ExactPosition(0), ExactPosition(9609), strand=1), type='source', qualifiers=...),\n",
              " SeqFeature(SimpleLocation(ExactPosition(0), ExactPosition(1954), strand=1), type='repeat_region'),\n",
              " SeqFeature(SimpleLocation(ExactPosition(86), ExactPosition(1109), strand=1), type='gene', qualifiers=...),\n",
              " SeqFeature(SimpleLocation(ExactPosition(86), ExactPosition(1109), strand=1), type='CDS', qualifiers=...),\n",
              " SeqFeature(SimpleLocation(ExactPosition(86), ExactPosition(959), strand=1), type='misc_feature', qualifiers=...),\n",
              " SeqFeature(SimpleLocation(BeforePosition(110), ExactPosition(209), strand=1), type='misc_feature', qualifiers=...),\n",
              " SeqFeature(SimpleLocation(ExactPosition(437), ExactPosition(812), strand=1), type='misc_feature', qualifiers=...),\n",
              " SeqFeature(SimpleLocation(ExactPosition(1105), ExactPosition(1888), strand=1), type='gene', qualifiers=...),\n",
              " SeqFeature(SimpleLocation(ExactPosition(1105), ExactPosition(1888), strand=1), type='CDS', qualifiers=...),\n",
              " SeqFeature(SimpleLocation(ExactPosition(1108), ExactPosition(1885), strand=1), type='misc_feature', qualifiers=...),\n",
              " SeqFeature(SimpleLocation(ExactPosition(1366), AfterPosition(1669), strand=1), type='misc_feature', qualifiers=...),\n",
              " SeqFeature(SimpleLocation(ExactPosition(1432), ExactPosition(1456), strand=1), type='misc_feature', qualifiers=...),\n",
              " SeqFeature(CompoundLocation([SimpleLocation(ExactPosition(1435), ExactPosition(1459), strand=1), SimpleLocation(ExactPosition(1618), ExactPosition(1621), strand=1)], 'order'), type='misc_feature', location_operator='order', qualifiers=...),\n",
              " SeqFeature(SimpleLocation(ExactPosition(1606), ExactPosition(1624), strand=1), type='misc_feature', qualifiers=...),\n",
              " SeqFeature(SimpleLocation(ExactPosition(2924), ExactPosition(3119), strand=1), type='gene', qualifiers=...),\n",
              " SeqFeature(SimpleLocation(ExactPosition(2924), ExactPosition(3119), strand=1), type='CDS', qualifiers=...),\n",
              " SeqFeature(SimpleLocation(ExactPosition(2924), ExactPosition(3107), strand=1), type='misc_feature', qualifiers=...),\n",
              " SeqFeature(SimpleLocation(ExactPosition(3485), ExactPosition(3857), strand=1), type='gene', qualifiers=...),\n",
              " SeqFeature(SimpleLocation(ExactPosition(3485), ExactPosition(3857), strand=1), type='CDS', qualifiers=...),\n",
              " SeqFeature(SimpleLocation(ExactPosition(3497), ExactPosition(3626), strand=1), type='misc_feature', qualifiers=...),\n",
              " SeqFeature(SimpleLocation(ExactPosition(4342), ExactPosition(4780), strand=1), type='gene', qualifiers=...),\n",
              " SeqFeature(SimpleLocation(ExactPosition(4342), ExactPosition(4780), strand=1), type='CDS', qualifiers=...),\n",
              " SeqFeature(SimpleLocation(ExactPosition(4814), ExactPosition(5888), strand=-1), type='gene', qualifiers=...),\n",
              " SeqFeature(SimpleLocation(ExactPosition(4814), ExactPosition(5888), strand=-1), type='CDS', qualifiers=...),\n",
              " SeqFeature(SimpleLocation(ExactPosition(5909), ExactPosition(5911), strand=1), type='variation', qualifiers=...),\n",
              " SeqFeature(SimpleLocation(ExactPosition(5933), ExactPosition(5933), strand=1), type='variation', qualifiers=...),\n",
              " SeqFeature(SimpleLocation(ExactPosition(5933), ExactPosition(5933), strand=1), type='variation', qualifiers=...),\n",
              " SeqFeature(SimpleLocation(ExactPosition(5947), ExactPosition(5948), strand=1), type='variation', qualifiers=...),\n",
              " SeqFeature(SimpleLocation(ExactPosition(6004), ExactPosition(6421), strand=1), type='gene', qualifiers=...),\n",
              " SeqFeature(SimpleLocation(ExactPosition(6004), ExactPosition(6421), strand=1), type='CDS', qualifiers=...),\n",
              " SeqFeature(SimpleLocation(ExactPosition(6524), ExactPosition(6525), strand=1), type='variation', qualifiers=...),\n",
              " SeqFeature(SimpleLocation(ExactPosition(6663), ExactPosition(7602), strand=1), type='gene', qualifiers=...),\n",
              " SeqFeature(SimpleLocation(ExactPosition(6663), ExactPosition(7602), strand=1), type='CDS', qualifiers=...),\n",
              " SeqFeature(SimpleLocation(ExactPosition(6663), ExactPosition(7599), strand=1), type='misc_feature', qualifiers=...),\n",
              " SeqFeature(SimpleLocation(ExactPosition(7788), ExactPosition(8088), strand=-1), type='gene', qualifiers=...),\n",
              " SeqFeature(SimpleLocation(ExactPosition(7788), ExactPosition(8088), strand=-1), type='CDS', qualifiers=...),\n",
              " SeqFeature(SimpleLocation(ExactPosition(7836), ExactPosition(7995), strand=-1), type='misc_feature', qualifiers=...),\n",
              " SeqFeature(SimpleLocation(ExactPosition(8087), ExactPosition(8360), strand=-1), type='gene', qualifiers=...),\n",
              " SeqFeature(SimpleLocation(ExactPosition(8087), ExactPosition(8360), strand=-1), type='CDS', qualifiers=...),\n",
              " SeqFeature(SimpleLocation(ExactPosition(8090), AfterPosition(8357), strand=-1), type='misc_feature', qualifiers=...),\n",
              " SeqFeature(SimpleLocation(ExactPosition(8529), ExactPosition(8529), strand=1), type='variation', qualifiers=...)]"
            ]
          },
          "metadata": {},
          "execution_count": 22
        }
      ]
    },
    {
      "cell_type": "code",
      "source": [
        "len(record.features)"
      ],
      "metadata": {
        "colab": {
          "base_uri": "https://localhost:8080/"
        },
        "id": "AYFiNzm-Slj0",
        "outputId": "e1c795ee-1a92-4726-fe19-d8180df8e046"
      },
      "execution_count": 25,
      "outputs": [
        {
          "output_type": "execute_result",
          "data": {
            "text/plain": [
              "41"
            ]
          },
          "metadata": {},
          "execution_count": 25
        }
      ]
    },
    {
      "cell_type": "code",
      "source": [
        "for feature in record.features:\n",
        "    print(feature.type) #SeqFeature의 각 type"
      ],
      "metadata": {
        "colab": {
          "base_uri": "https://localhost:8080/"
        },
        "id": "q8QPYZVgTK2F",
        "outputId": "f10b6ba4-da0b-4177-a409-727256892d67"
      },
      "execution_count": 26,
      "outputs": [
        {
          "output_type": "stream",
          "name": "stdout",
          "text": [
            "source\n",
            "repeat_region\n",
            "gene\n",
            "CDS\n",
            "misc_feature\n",
            "misc_feature\n",
            "misc_feature\n",
            "gene\n",
            "CDS\n",
            "misc_feature\n",
            "misc_feature\n",
            "misc_feature\n",
            "misc_feature\n",
            "misc_feature\n",
            "gene\n",
            "CDS\n",
            "misc_feature\n",
            "gene\n",
            "CDS\n",
            "misc_feature\n",
            "gene\n",
            "CDS\n",
            "gene\n",
            "CDS\n",
            "variation\n",
            "variation\n",
            "variation\n",
            "variation\n",
            "gene\n",
            "CDS\n",
            "variation\n",
            "gene\n",
            "CDS\n",
            "misc_feature\n",
            "gene\n",
            "CDS\n",
            "misc_feature\n",
            "gene\n",
            "CDS\n",
            "misc_feature\n",
            "variation\n"
          ]
        }
      ]
    },
    {
      "cell_type": "code",
      "source": [
        "for feature in record.features:\n",
        "    print(feature.location) #SeqFeature의 각 location"
      ],
      "metadata": {
        "colab": {
          "base_uri": "https://localhost:8080/"
        },
        "id": "EbnsPRdGTnN7",
        "outputId": "9a8fe673-9f59-450f-e204-250be8465c3d"
      },
      "execution_count": 27,
      "outputs": [
        {
          "output_type": "stream",
          "name": "stdout",
          "text": [
            "[0:9609](+)\n",
            "[0:1954](+)\n",
            "[86:1109](+)\n",
            "[86:1109](+)\n",
            "[86:959](+)\n",
            "[<110:209](+)\n",
            "[437:812](+)\n",
            "[1105:1888](+)\n",
            "[1105:1888](+)\n",
            "[1108:1885](+)\n",
            "[1366:>1669](+)\n",
            "[1432:1456](+)\n",
            "order{[1435:1459](+), [1618:1621](+)}\n",
            "[1606:1624](+)\n",
            "[2924:3119](+)\n",
            "[2924:3119](+)\n",
            "[2924:3107](+)\n",
            "[3485:3857](+)\n",
            "[3485:3857](+)\n",
            "[3497:3626](+)\n",
            "[4342:4780](+)\n",
            "[4342:4780](+)\n",
            "[4814:5888](-)\n",
            "[4814:5888](-)\n",
            "[5909:5911](+)\n",
            "[5933:5933](+)\n",
            "[5933:5933](+)\n",
            "[5947:5948](+)\n",
            "[6004:6421](+)\n",
            "[6004:6421](+)\n",
            "[6524:6525](+)\n",
            "[6663:7602](+)\n",
            "[6663:7602](+)\n",
            "[6663:7599](+)\n",
            "[7788:8088](-)\n",
            "[7788:8088](-)\n",
            "[7836:7995](-)\n",
            "[8087:8360](-)\n",
            "[8087:8360](-)\n",
            "[8090:>8357](-)\n",
            "[8529:8529](+)\n"
          ]
        }
      ]
    },
    {
      "cell_type": "code",
      "source": [
        "for feature in record.features:\n",
        "    print(feature.location.strand, end=\" \")\n",
        "#1, -1, 0 또는 None으로 표기\n",
        "#1은 top strand, -1은 bottom strand, 0은 알 수 없는 경우, None은 protein이나 single stranded 서열인 경우"
      ],
      "metadata": {
        "colab": {
          "base_uri": "https://localhost:8080/"
        },
        "id": "UetK3earT0Rb",
        "outputId": "9ad37851-2f5c-42a3-d591-953e07034239"
      },
      "execution_count": 29,
      "outputs": [
        {
          "output_type": "stream",
          "name": "stdout",
          "text": [
            "1 1 1 1 1 1 1 1 1 1 1 1 1 1 1 1 1 1 1 1 1 1 -1 -1 1 1 1 1 1 1 1 1 1 1 -1 -1 -1 -1 -1 -1 1 "
          ]
        }
      ]
    },
    {
      "cell_type": "code",
      "source": [
        "record.features[0].qualifiers #딕셔너리로 저장되어있음"
      ],
      "metadata": {
        "colab": {
          "base_uri": "https://localhost:8080/"
        },
        "id": "6Jzb0Wy9Ubp4",
        "outputId": "904d8cef-f056-48a6-9949-cfad3e579663"
      },
      "execution_count": 30,
      "outputs": [
        {
          "output_type": "execute_result",
          "data": {
            "text/plain": [
              "{'organism': ['Yersinia pestis biovar Microtus str. 91001'],\n",
              " 'mol_type': ['genomic DNA'],\n",
              " 'strain': ['91001'],\n",
              " 'db_xref': ['taxon:229193'],\n",
              " 'plasmid': ['pPCP1'],\n",
              " 'biovar': ['Microtus']}"
            ]
          },
          "metadata": {},
          "execution_count": 30
        }
      ]
    },
    {
      "cell_type": "markdown",
      "source": [
        "SeqFeature 객체에서 영역을 설명하는 방식에는 두 가지가 있다.\n",
        "Position 은 한 지점의 영역을 표시. 예를 들어, 5, 20, <100, >200 \n",
        "Location 은 두 지점으로 영역을 표시. 예를 들어 처음과 끝의 지점을 지정해서 그 사이의 영역을 표시."
      ],
      "metadata": {
        "id": "pQz9V77rVU4z"
      }
    },
    {
      "cell_type": "code",
      "source": [
        "from Bio import SeqFeature\n",
        " \n",
        "start_pos = SeqFeature.ExactPosition(15)\n",
        "end_pos = SeqFeature.ExactPosition(20)\n",
        "my_location = SeqFeature.FeatureLocation(start_pos, end_pos)\n",
        " \n",
        "#명확한 position으로 location을 만들 수 있다.\n",
        "print(\"Position example: \", start_pos)\n",
        "print(\"Position example: \", end_pos)\n",
        "print(\"Location example: \", my_location) #SeqFeature의 ExactPosition 메서드로 명확한 position을 찍어 줄 수 있다"
      ],
      "metadata": {
        "colab": {
          "base_uri": "https://localhost:8080/"
        },
        "id": "db9qdsbNVhel",
        "outputId": "23a31752-5746-406c-8f9d-7b291c23e72c"
      },
      "execution_count": 32,
      "outputs": [
        {
          "output_type": "stream",
          "name": "stdout",
          "text": [
            "Position example:  15\n",
            "Position example:  20\n",
            "Location example:  [15:20]\n"
          ]
        }
      ]
    },
    {
      "cell_type": "code",
      "source": [
        "from Bio import SeqFeature\n",
        " \n",
        "start_pos = SeqFeature.AfterPosition(5)\n",
        "end_pos = SeqFeature.BetweenPosition(10, left=8, right=10)\n",
        "my_location = SeqFeature.FeatureLocation(start_pos, end_pos)\n",
        " \n",
        "#불분명한 position으로 location을 만들 수 있다\n",
        "print(\"Position example (5 이후의 position): \", start_pos)\n",
        "print(\"Position example (8 과 10 사이의 position): \", end_pos)\n",
        "print(\"Location example: \", my_location)"
      ],
      "metadata": {
        "colab": {
          "base_uri": "https://localhost:8080/"
        },
        "id": "IYNtbKL7WGon",
        "outputId": "500f97bc-8a63-41cc-a100-a2c34f89ef69"
      },
      "execution_count": 33,
      "outputs": [
        {
          "output_type": "stream",
          "name": "stdout",
          "text": [
            "Position example (5 이후의 position):  >5\n",
            "Position example (8 과 10 사이의 position):  (8^10)\n",
            "Location example:  [>5:(8^10)]\n"
          ]
        }
      ]
    },
    {
      "cell_type": "markdown",
      "source": [
        "GenBank 에서 Position 이 포함된 Feature 골라내기"
      ],
      "metadata": {
        "id": "8eIPhFo1WeA1"
      }
    },
    {
      "cell_type": "code",
      "source": [
        "from Bio import SeqIO\n",
        "my_snp = 4350\n",
        "record = SeqIO.read(\"/content/gdrive/MyDrive/colab/NC_005816.gb\", \"genbank\")\n",
        "for feature in record.features:\n",
        "    if my_snp in feature:\n",
        "        print(\"%s %s\" % (feature.type, feature.qualifiers.get('db_xref'))) #string format"
      ],
      "metadata": {
        "colab": {
          "base_uri": "https://localhost:8080/"
        },
        "id": "R3SDrstxWfrH",
        "outputId": "156d499b-ba94-48f6-b000-dbd4c6d883b4"
      },
      "execution_count": 34,
      "outputs": [
        {
          "output_type": "stream",
          "name": "stdout",
          "text": [
            "source ['taxon:229193']\n",
            "gene ['GeneID:2767712']\n",
            "CDS ['GI:45478716', 'GeneID:2767712']\n"
          ]
        }
      ]
    },
    {
      "cell_type": "markdown",
      "source": [
        "SeqFeature의 위치정보로 실제서열 가져오기"
      ],
      "metadata": {
        "id": "XvJal9nnb8C7"
      }
    },
    {
      "cell_type": "code",
      "source": [
        "from Bio.Seq import Seq\n",
        "from Bio.SeqFeature import SeqFeature, FeatureLocation\n",
        " \n",
        "## 부모 서열 Seq 객체를 생성합니다\n",
        "parent = Seq(\"ACCGAGACGGCAAAG\")\n",
        " \n",
        "## SeqFeature 객체를 만들면서 위치와 strand 정보를 넣습니다.\n",
        "## strand가 -1 이면 상보서열을 의미합니다.\n",
        "feature = SeqFeature(FeatureLocation(2, 7), type=\"gene\", strand=1)\n",
        " \n",
        "## Parent 에서 서열을 가져올 때는 두 가지 방법이 있습니다\n",
        "## 1) Seq 객체에서 문자열 슬라이싱 하듯 슬라이싱하기\n",
        "feature_seq = parent[feature.location.start:feature.location.end]\n",
        "print(feature_seq) ## CGAGA\n",
        " \n",
        "## 2) SeqFeature 객체에서 extract 메서드 사용하기\n",
        "feature_seq = feature.extract(parent)\n",
        "print(feature_seq) ## CGAGA\n"
      ],
      "metadata": {
        "colab": {
          "base_uri": "https://localhost:8080/"
        },
        "id": "_Y9YXdb6aAKq",
        "outputId": "4cce137b-3cd5-47a9-bce8-e2136dc75ce3"
      },
      "execution_count": 35,
      "outputs": [
        {
          "output_type": "stream",
          "name": "stdout",
          "text": [
            "CGAGA\n",
            "CGAGA\n"
          ]
        },
        {
          "output_type": "stream",
          "name": "stderr",
          "text": [
            "/usr/local/lib/python3.9/dist-packages/Bio/SeqFeature.py:257: BiopythonDeprecationWarning: Using the strand argument is deprecated, and will be removed in a future release. Please set it via the location object instead.\n",
            "  warnings.warn(\n"
          ]
        }
      ]
    }
  ]
}