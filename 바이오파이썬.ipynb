{
  "nbformat": 4,
  "nbformat_minor": 0,
  "metadata": {
    "colab": {
      "provenance": [],
      "mount_file_id": "1wCXXHuMtWARfh8joES7kF22nbQ1VAPKK",
      "authorship_tag": "ABX9TyO8WeQwdSf7Z5PL/px21mYo",
      "include_colab_link": true
    },
    "kernelspec": {
      "name": "python3",
      "display_name": "Python 3"
    },
    "language_info": {
      "name": "python"
    }
  },
  "cells": [
    {
      "cell_type": "markdown",
      "metadata": {
        "id": "view-in-github",
        "colab_type": "text"
      },
      "source": [
        "<a href=\"https://colab.research.google.com/github/NoRuTnT/test/blob/main/%EB%B0%94%EC%9D%B4%EC%98%A4%ED%8C%8C%EC%9D%B4%EC%8D%AC.ipynb\" target=\"_parent\"><img src=\"https://colab.research.google.com/assets/colab-badge.svg\" alt=\"Open In Colab\"/></a>"
      ]
    },
    {
      "cell_type": "code",
      "execution_count": 34,
      "metadata": {
        "id": "GjLL-5a4_plF",
        "colab": {
          "base_uri": "https://localhost:8080/"
        },
        "outputId": "bf4e1434-4d1a-4158-825e-7027d0867a4d"
      },
      "outputs": [
        {
          "output_type": "stream",
          "name": "stdout",
          "text": [
            "Looking in indexes: https://pypi.org/simple, https://us-python.pkg.dev/colab-wheels/public/simple/\n",
            "Requirement already satisfied: biopython in /usr/local/lib/python3.9/dist-packages (1.81)\n",
            "Requirement already satisfied: numpy in /usr/local/lib/python3.9/dist-packages (from biopython) (1.22.4)\n",
            "Drive already mounted at /content/gdrive; to attempt to forcibly remount, call drive.mount(\"/content/gdrive\", force_remount=True).\n"
          ]
        }
      ],
      "source": [
        "!pip install biopython\n",
        "from google.colab import drive\n",
        "drive.mount('/content/gdrive')\n",
        "\n",
        "\n"
      ]
    },
    {
      "cell_type": "code",
      "source": [
        "from Bio.Seq import Seq\n",
        "my_seq = Seq(\"AGTACACTGGT\")\n",
        "print(my_seq)\n",
        "print(my_seq.lower())\n",
        "len(my_seq)\n",
        "print(my_seq[0])\n",
        "print(my_seq[1:3]) ##string처럼 len, indexing가능"
      ],
      "metadata": {
        "colab": {
          "base_uri": "https://localhost:8080/"
        },
        "id": "DvIhnEiCNeg5",
        "outputId": "a3a8a4f9-10a3-4026-b730-7b6c9fadebda"
      },
      "execution_count": 9,
      "outputs": [
        {
          "output_type": "stream",
          "name": "stdout",
          "text": [
            "AGTACACTGGT\n",
            "agtacactggt\n",
            "A\n",
            "GT\n"
          ]
        }
      ]
    },
    {
      "cell_type": "code",
      "source": [
        "from Bio.Seq import Seq\n",
        "from Bio.SeqUtils import GC\n",
        "my_seq = Seq('GATCGATGGGCCTATATAGGATCGAAAATCGC')\n",
        "len(my_seq)\n",
        "my_seq.count(\"G\")\n",
        "100 * float(my_seq.count(\"G\") + my_seq.count(\"C\")) / len(my_seq) ##GC(%)계산\n"
      ],
      "metadata": {
        "colab": {
          "base_uri": "https://localhost:8080/"
        },
        "id": "l-70UNZkNm22",
        "outputId": "a7ddadb5-3432-4892-da13-dec12a759c49"
      },
      "execution_count": 14,
      "outputs": [
        {
          "output_type": "execute_result",
          "data": {
            "text/plain": [
              "46.875"
            ]
          },
          "metadata": {},
          "execution_count": 14
        }
      ]
    },
    {
      "cell_type": "code",
      "source": [
        "protein_seq = Seq(\"EVRNAK\")\n",
        "dna_seq = Seq(\"ACGT\")\n",
        "protein_seq + dna_seq #IUPAC쓸떄는오류 지금은 더해진다?\n",
        "\n"
      ],
      "metadata": {
        "colab": {
          "base_uri": "https://localhost:8080/"
        },
        "id": "SYcd83aSWisQ",
        "outputId": "bf745bbe-9e7c-4669-dde4-bb8377774483"
      },
      "execution_count": 15,
      "outputs": [
        {
          "output_type": "execute_result",
          "data": {
            "text/plain": [
              "Seq('EVRNAKACGT')"
            ]
          },
          "metadata": {},
          "execution_count": 15
        }
      ]
    },
    {
      "cell_type": "code",
      "source": [
        "my_seq = Seq(\"GATCGATGGGCCTATATAGGATCGAAAATCGC\")\n",
        "print(my_seq.complement()) #상보서열\n",
        "print(my_seq.reverse_complement()) #역상보서열"
      ],
      "metadata": {
        "colab": {
          "base_uri": "https://localhost:8080/"
        },
        "id": "4Jr8E3dvYITl",
        "outputId": "beca8d50-d0fb-4691-ea7b-6fc5210b8d22"
      },
      "execution_count": 22,
      "outputs": [
        {
          "output_type": "stream",
          "name": "stdout",
          "text": [
            "CTAGCTACCCGGATATATCCTAGCTTTTAGCG\n",
            "GCGATTTTCGATCCTATATAGGCCCATCGATC\n"
          ]
        }
      ]
    },
    {
      "cell_type": "code",
      "source": [
        "coding_dna = Seq(\"ATGGCCATTGTAATGGGCCGCTGAAAGGGTGCCCGATAG\")\n",
        "template_dna = coding_dna.reverse_complement()\n",
        "print(template_dna)\n",
        "messenger_rna = coding_dna.transcribe()\n",
        "print(messenger_rna)\n",
        "messenger_rna.translate() #번역"
      ],
      "metadata": {
        "colab": {
          "base_uri": "https://localhost:8080/"
        },
        "id": "4s-uzYwwY3OD",
        "outputId": "d37c64a9-4468-4d00-8922-605d6c5321ac"
      },
      "execution_count": 27,
      "outputs": [
        {
          "output_type": "execute_result",
          "data": {
            "text/plain": [
              "Seq('MAIVMGR*KGAR*')"
            ]
          },
          "metadata": {},
          "execution_count": 27
        }
      ]
    },
    {
      "cell_type": "code",
      "source": [
        "from Bio import SeqIO\n",
        "#import sys\n",
        "#sys.path.append('/content/drive/MyDrive/colab') 안됨\n",
        "\n",
        "record = SeqIO.read(\"/content/drive/MyDrive/colab/NC_005816.fna\",\"fasta\")\n",
        "print(record)\n",
        "print(record.id) #시퀀스객체의 각각에도 저장가능"
      ],
      "metadata": {
        "colab": {
          "base_uri": "https://localhost:8080/"
        },
        "id": "U9jYQnNaZ5SY",
        "outputId": "247c757f-3170-46fa-98d5-66bfc3712d6b"
      },
      "execution_count": 42,
      "outputs": [
        {
          "output_type": "stream",
          "name": "stdout",
          "text": [
            "ID: gi|45478711|ref|NC_005816.1|\n",
            "Name: gi|45478711|ref|NC_005816.1|\n",
            "Description: gi|45478711|ref|NC_005816.1| Yersinia pestis biovar Microtus str. 91001 plasmid pPCP1, complete sequence\n",
            "Number of features: 0\n",
            "Seq('TGTAACGAACGGTGCAATAGTGATCCACACCCAACGCCTGAAATCAGATCCAGG...CTG')\n"
          ]
        }
      ]
    },
    {
      "cell_type": "code",
      "source": [
        "from Bio import SeqIO\n",
        "record = SeqIO.read(\"/content/drive/MyDrive/colab/NC_005816.gb\", \"genbank\")\n",
        "print(record)\n"
      ],
      "metadata": {
        "colab": {
          "base_uri": "https://localhost:8080/"
        },
        "id": "IOlQka2Lyxaz",
        "outputId": "abb61085-6911-4055-c9d6-04ac81918be5"
      },
      "execution_count": 44,
      "outputs": [
        {
          "output_type": "stream",
          "name": "stdout",
          "text": [
            "ID: NC_005816.1\n",
            "Name: NC_005816\n",
            "Description: Yersinia pestis biovar Microtus str. 91001 plasmid pPCP1, complete sequence\n",
            "Database cross-references: Project:58037\n",
            "Number of features: 41\n",
            "/molecule_type=DNA\n",
            "/topology=circular\n",
            "/data_file_division=BCT\n",
            "/date=21-JUL-2008\n",
            "/accessions=['NC_005816']\n",
            "/sequence_version=1\n",
            "/gi=45478711\n",
            "/keywords=['']\n",
            "/source=Yersinia pestis biovar Microtus str. 91001\n",
            "/organism=Yersinia pestis biovar Microtus str. 91001\n",
            "/taxonomy=['Bacteria', 'Proteobacteria', 'Gammaproteobacteria', 'Enterobacteriales', 'Enterobacteriaceae', 'Yersinia']\n",
            "/references=[Reference(title='Genetics of metabolic variations between Yersinia pestis biovars and the proposal of a new biovar, microtus', ...), Reference(title='Complete genome sequence of Yersinia pestis strain 91001, an isolate avirulent to humans', ...), Reference(title='Direct Submission', ...), Reference(title='Direct Submission', ...)]\n",
            "/comment=PROVISIONAL REFSEQ: This record has not yet been subject to final\n",
            "NCBI review. The reference sequence was derived from AE017046.\n",
            "COMPLETENESS: full length.\n",
            "Seq('TGTAACGAACGGTGCAATAGTGATCCACACCCAACGCCTGAAATCAGATCCAGG...CTG')\n"
          ]
        }
      ]
    },
    {
      "cell_type": "code",
      "source": [
        "record"
      ],
      "metadata": {
        "colab": {
          "base_uri": "https://localhost:8080/"
        },
        "id": "k60N2Evk0guX",
        "outputId": "9be284d1-45aa-4b8f-f8af-0a975e272d56"
      },
      "execution_count": 45,
      "outputs": [
        {
          "output_type": "execute_result",
          "data": {
            "text/plain": [
              "SeqRecord(seq=Seq('TGTAACGAACGGTGCAATAGTGATCCACACCCAACGCCTGAAATCAGATCCAGG...CTG'), id='NC_005816.1', name='NC_005816', description='Yersinia pestis biovar Microtus str. 91001 plasmid pPCP1, complete sequence', dbxrefs=['Project:58037'])"
            ]
          },
          "metadata": {},
          "execution_count": 45
        }
      ]
    }
  ]
}